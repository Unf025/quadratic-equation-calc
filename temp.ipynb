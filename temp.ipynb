{
 "metadata": {
  "language_info": {
   "codemirror_mode": {
    "name": "ipython",
    "version": 3
   },
   "file_extension": ".py",
   "mimetype": "text/x-python",
   "name": "python",
   "nbconvert_exporter": "python",
   "pygments_lexer": "ipython3",
   "version": "3.8.6-final"
  },
  "orig_nbformat": 2,
  "kernelspec": {
   "name": "python3",
   "display_name": "Python 3.8.6 64-bit",
   "metadata": {
    "interpreter": {
     "hash": "c1ff173180f10b662d1c2ed3c7af65e24cb78b2128b0ea6629b6a02e425dad48"
    }
   }
  }
 },
 "nbformat": 4,
 "nbformat_minor": 2,
 "cells": [
  {
   "cell_type": "code",
   "execution_count": null,
   "metadata": {},
   "outputs": [],
   "source": [
    "# В питоне есть такая структура данных как словарь https://wombat.org.ua/AByteOfPython/data_structures.html\n",
    "#назваие словаря = {имя элемента словаря : значение элемента словаря}\n",
    "input_data       = { 'a'                 : int(input(\"a= \")),\n",
    "               'b' : int(input(\"b= \")),\n",
    "               'c' : int(input(\"c= \"))            \n",
    "}\n",
    "#можем вывести значания всего словаря\n",
    "print (input_data)\n",
    "# или отдельного элемента\n",
    "print ('a=', input_data['a'])\n",
    "\n"
   ]
  },
  {
   "cell_type": "code",
   "execution_count": null,
   "metadata": {},
   "outputs": [],
   "source": [
    "# Нахрена они нам нужны, эти сраные структуры???\n",
    "# когда у нас много данных, мы их объединяем под общими признаками чтобы легче к ним обращаться.\n",
    "# из примера выше есть словарь данных вводимых пользователем. Ввод данных в коде программы повторяется несколько раз, значит суем это в функцию\n",
    "\n",
    "def GetInputData():\n",
    "    data  = { 'a' : int(input(\"a= \")), # поскольку из названии функции нам ясно что данные вводимые, то назовем словарь просто дата\n",
    "              'b' : int(input(\"b= \")),\n",
    "              'c' : int(input(\"c= \"))            \n",
    "    }\n",
    "    return data # функция возвращает данный словарь. \n",
    "\n",
    "input_data = GetInputData() # input_data станет словарем с данными, что вернет функция GetInputData\n",
    "#теперь сделаем какую нить дичь\n",
    "result= input_data['a']+input_data['b']+input_data['c'] # просуммируем их\n",
    "print (result) # и выведем на экран\n"
   ]
  },
  {
   "cell_type": "code",
   "execution_count": null,
   "metadata": {},
   "outputs": [],
   "source": [
    "# и ты мне такой- бля все стало сложнее и непонятнее! можно же просто как раньше было.\n",
    "# НО когда прога маленькая, можно и переменные называть коротенько и как угодно.\n",
    "# когда прога большая, ты затрахаешься вспоминать что за сраная переменная а\n",
    "# по этому нужно называть переменные так, чтобы прочитав было более ясно откуда она или к чему относится\n",
    "# вот можно было написать input_data_a, input_data_b, input_data_c...и вроде названия стали читаемы\n",
    "# Так какого хрена мне еще надо? пробуем:\n",
    "def GetSum (a, b, c): # в функции называть аргументы можно и покороче, она маленькая, в ней все ясно.\n",
    "    return a+b+c # функция возвращает сумму\n",
    "# наши данные\n",
    "input_data_a=1\n",
    "input_data_b=2\n",
    "input_data_c=3\n",
    "\n",
    "result=GetSum(input_data_a, input_data_b, input_data_c) # смотри как дохрена одинаковых букв в передаче аргументов\n",
    "print (result) #покажем результат\n"
   ]
  },
  {
   "source": [
    "# теперь входные данные структура\n",
    "def GetSum (data): # теперь вместо трех входных аргументов в функцию передается структура\n",
    "    summ=data['a']+data['b']+data['c'] # создадим переменную которая по сути нафиг не нужна -summ\n",
    "    return summ # вернем значение переменной\n",
    "\n",
    "input_data = {  'a' : 1, # поскольку из названии функции нам ясно что данные вводимые, то назовем словарь просто дата\n",
    "                'b' : 2,\n",
    "                'c' : 3            \n",
    "}\n",
    "result=GetSum(input_data) #передаем в функцию словарь-запись стала короче\n",
    "print (result)\n",
    "\n",
    "# короче словарь-это коробка с переменными. даем имя коробке и даем имя переменной и присваиваем значение переменной.\n",
    "# эту коробку можно передавать и возвращать из функций. это один из плюсов, дальше больше\n"
   ],
   "cell_type": "code",
   "metadata": {},
   "execution_count": null,
   "outputs": []
  },
  {
   "cell_type": "code",
   "execution_count": null,
   "metadata": {},
   "outputs": [],
   "source": [
    "# этот кусок относится больше к наведению порядка и красоте  https://fedor1113.github.io/SomeBasicMathsNotions/7.html\n",
    "# а также строит график функции на участе +-10 от экстремума\n",
    "import numpy as np # подключение крутой библиотеки numpy -https://pythonworld.ru/numpy/1.html. !!! поначалу может быть непонятно\n",
    "import matplotlib.pyplot as plt # подключение крутой библиотеки  matplotlib - https://nbviewer.jupyter.org/github/whitehorn/Scientific_graphics_in_python/blob/master/P1%20Chapter%201%20Pyplot.ipynb\n",
    "\n",
    "def GetInputData():\n",
    "    while True:\n",
    "        data  = { 'a' : int(input(\"a= \")), # поскольку из названии функции нам ясно что данные вводимые, то назовем словарь просто дата\n",
    "                'b' : int(input(\"b= \")),\n",
    "                'c' : int(input(\"c= \"))            \n",
    "        }\n",
    "        if data['a'] != 0:\n",
    "            print (\"Введены коэффициенты:\", data)\n",
    "            print (\"_________Анализ коэффициентов_________\")\n",
    "            if data['a']<0:\n",
    "                print(\"При а<0 ветви параболы направлены вниз.\")\n",
    "            else:\n",
    "                print(\"При а>0 ветви параболы направлены вверх.\")\n",
    "\n",
    "            if data['b'] ==0 or data['c']==0:\n",
    "                print(\"Уравнение, в котором хотя бы один коэффициент (b или c) равен нулю, называют неполным.\")\n",
    "                if  data['b'] ==0:\n",
    "                     print(\"При b=0 парабола будет симметрична относительно оси Y\")\n",
    "            else:\n",
    "                print(\"Уравнение, в котором все коэффициенты отличны от нуля, называется полным.\")\n",
    "            \n",
    "            break\n",
    "        else :\n",
    "            print (\"При а = 0, функция перестает быть квадратичной.Введите а не равное 0\")\n",
    "    return data # функция возвращает данный словарь.\n",
    "\n",
    "def CalcQadraticY(x,data): #функция вычисляет y квадратной функции\n",
    "    a=data['a']\n",
    "    b=data['b']\n",
    "    c=data['c']\n",
    "    return  a*x ** 2 +b * x +c \n",
    "\n",
    "def CalcQuadraticExtremum(data): # функция вычисляет экстремум квадратной функции\n",
    "    x=(-data['b'])/(2*data['a'])\n",
    "    y=data['a']*x**2+data['b']*x+data['c']\n",
    "    return ({\"x\":x,\"y\":y}) \n",
    "\n",
    "# основной код \n",
    "input_data = GetInputData() # получение коэффициентов\n",
    "\n",
    "print (\"_________Расчеты_________\")\n",
    "extremum=CalcQuadraticExtremum(input_data)\n",
    "print('значение по оси Х экстремума функции = -b/2a =', extremum['x'])\n",
    "print('значение по оси Y экстремума функции = ', extremum['y'])\n",
    "\n",
    "x = np.linspace(extremum['x'] -10, extremum['x'] +10, 201) # https://pythonist.ru/funkczii-numpy-linspace-i-numpy-logspace/ \n",
    "\n",
    "y = CalcQadraticY(x,input_data)\n",
    "\n",
    "plt.plot(x, y) # построить график по оси икс откладывая массив х, а по у вызываем функцию, которая посчитает значения у\n",
    "plt.axhline(y=0, color='k')\n",
    "plt.axvline(x=0, color='k')\n",
    "plt.scatter(extremum['x'] ,extremum['y'], color='orange', s=40, marker='o')\n",
    "plt.show() # показать этот график в окне"
   ]
  },
  {
   "cell_type": "code",
   "execution_count": null,
   "metadata": {},
   "outputs": [],
   "source": []
  }
 ]
}