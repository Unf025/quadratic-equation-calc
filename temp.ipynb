{
 "metadata": {
  "language_info": {
   "codemirror_mode": {
    "name": "ipython",
    "version": 3
   },
   "file_extension": ".py",
   "mimetype": "text/x-python",
   "name": "python",
   "nbconvert_exporter": "python",
   "pygments_lexer": "ipython3",
   "version": "3.8.6-final"
  },
  "orig_nbformat": 2,
  "kernelspec": {
   "name": "python3",
   "display_name": "Python 3.8.6 64-bit",
   "metadata": {
    "interpreter": {
     "hash": "c1ff173180f10b662d1c2ed3c7af65e24cb78b2128b0ea6629b6a02e425dad48"
    }
   }
  }
 },
 "nbformat": 4,
 "nbformat_minor": 2,
 "cells": [
  {
   "cell_type": "code",
   "execution_count": 9,
   "metadata": {},
   "outputs": [
    {
     "output_type": "stream",
     "name": "stdout",
     "text": [
      "{'a': 1, 'b': 2, 'c': 3}\na= 1\n"
     ]
    }
   ],
   "source": [
    "# В питоне есть такая структура данных как словарь https://wombat.org.ua/AByteOfPython/data_structures.html\n",
    "#назваие словаря = {имя элемента словаря : значение элемента словаря}\n",
    "input_data       = { 'a'                 : int(input(\"a= \")),\n",
    "               'b' : int(input(\"b= \")),\n",
    "               'c' : int(input(\"c= \"))            \n",
    "}\n",
    "#можем вывести значания всего словаря\n",
    "print (input_data)\n",
    "# или отдельного элемента\n",
    "print ('a=', input_data['a'])\n",
    "\n"
   ]
  },
  {
   "cell_type": "code",
   "execution_count": 11,
   "metadata": {},
   "outputs": [
    {
     "output_type": "stream",
     "name": "stdout",
     "text": [
      "6\n"
     ]
    }
   ],
   "source": [
    "# Нахрена они нам нужны, эти сраные структуры???\n",
    "# когда у нас много данных, мы их объединяем под общими признаками чтобы легче к ним обращаться.\n",
    "# из примера выше есть словарь данных вводимых пользователем. Ввод данных в коде программы повторяется несколько раз, значит суем это в функцию\n",
    "\n",
    "def GetInputData():\n",
    "    data  = { 'a' : int(input(\"a= \")), # поскольку из названии функции нам ясно что данные вводимые, то назовем словарь просто дата\n",
    "              'b' : int(input(\"b= \")),\n",
    "              'c' : int(input(\"c= \"))            \n",
    "    }\n",
    "    return data # функция возвращает данный словарь. \n",
    "\n",
    "input_data = GetInputData() # input_data станет словарем с данными, что вернет функция GetInputData\n",
    "#теперь сделаем какую нить дичь\n",
    "result= input_data['a']+input_data['b']+input_data['c'] # просуммируем их\n",
    "print (result) # и выведем на экран\n"
   ]
  },
  {
   "cell_type": "code",
   "execution_count": 13,
   "metadata": {},
   "outputs": [
    {
     "output_type": "stream",
     "name": "stdout",
     "text": [
      "6\n"
     ]
    }
   ],
   "source": [
    "# и ты мне такой- бля все стало сложнее и непонятнее! можно же просто как раньше было.\n",
    "# НО когда прога маленькая, можно и переменные называть коротенько и как угодно.\n",
    "# когда прога большая, ты затрахаешься вспоминать что за сраная переменная а\n",
    "# по этому нужно называть переменные так, чтобы прочитав было более ясно откуда она или к чему относится\n",
    "# вот можно было написать input_data_a, input_data_b, input_data_c...и вроде названия стали читаемы\n",
    "# Так какого хрена мне еще надо? пробуем:\n",
    "def GetSum (a, b, c): # в функции называть аргументы можно и покороче, она маленькая, в ней все ясно.\n",
    "    return a+b+c # функция возвращает сумму\n",
    "# наши данные\n",
    "input_data_a=1\n",
    "input_data_b=2\n",
    "input_data_c=3\n",
    "\n",
    "result=GetSum(input_data_a, input_data_b, input_data_c) # смотри как дохрена одинаковых букв в передаче аргументов\n",
    "print (result) #покажем результат\n"
   ]
  },
  {
   "cell_type": "code",
   "execution_count": 16,
   "metadata": {},
   "outputs": [
    {
     "output_type": "stream",
     "name": "stdout",
     "text": [
      "6\n"
     ]
    }
   ],
   "source": [
    "# теперь входные данные структура\n",
    "def GetSum (data): # теперь вместо трех входных аргументов в функцию передается структура\n",
    "    summ=data['a']+data['b']+data['c'] # создадим переменную которая по сути нафиг не нужна -summ\n",
    "    return summ # вернем значение переменной\n",
    "\n",
    "input_data = {  'a' : 1, # поскольку из названии функции нам ясно что данные вводимые, то назовем словарь просто дата\n",
    "                'b' : 2,\n",
    "                'c' : 3            \n",
    "}\n",
    "result=GetSum(input_data) #передаем в функцию словарь-запись стала короче\n",
    "print (result)\n",
    "\n",
    "# короче словарь-это коробка с переменными. даем имя коробке и даем имя переменной и присваиваем значение переменной.\n",
    "# эту коробку можно передавать и возвращать из функций. это один из плюсов, дальше больше\n"
   ]
  },
  {
   "cell_type": "code",
   "execution_count": 47,
   "metadata": {},
   "outputs": [
    {
     "output_type": "stream",
     "name": "stdout",
     "text": [
      "Введены коэффициенты: {'a': 1, 'b': -3, 'c': -4}\n_________Анализ коэффициентов_________\nПри а>0 ветви параболы направлены вверх.\nУравнение, в котором все коэффициенты отличны от нуля, называется полным.\n_________Расчеты_________\nзначение по оси Х экстремума функции = -b/2a = 1.5\nзначение по оси Y экстремума функции =  -6.25\n"
     ]
    },
    {
     "output_type": "display_data",
     "data": {
      "text/plain": "<Figure size 432x288 with 1 Axes>",
      "image/svg+xml": "<?xml version=\"1.0\" encoding=\"utf-8\" standalone=\"no\"?>\r\n<!DOCTYPE svg PUBLIC \"-//W3C//DTD SVG 1.1//EN\"\r\n  \"http://www.w3.org/Graphics/SVG/1.1/DTD/svg11.dtd\">\r\n<!-- Created with matplotlib (https://matplotlib.org/) -->\r\n<svg height=\"248.518125pt\" version=\"1.1\" viewBox=\"0 0 380.057813 248.518125\" width=\"380.057813pt\" xmlns=\"http://www.w3.org/2000/svg\" xmlns:xlink=\"http://www.w3.org/1999/xlink\">\r\n <metadata>\r\n  <rdf:RDF xmlns:cc=\"http://creativecommons.org/ns#\" xmlns:dc=\"http://purl.org/dc/elements/1.1/\" xmlns:rdf=\"http://www.w3.org/1999/02/22-rdf-syntax-ns#\">\r\n   <cc:Work>\r\n    <dc:type rdf:resource=\"http://purl.org/dc/dcmitype/StillImage\"/>\r\n    <dc:date>2021-01-03T04:43:01.115556</dc:date>\r\n    <dc:format>image/svg+xml</dc:format>\r\n    <dc:creator>\r\n     <cc:Agent>\r\n      <dc:title>Matplotlib v3.3.3, https://matplotlib.org/</dc:title>\r\n     </cc:Agent>\r\n    </dc:creator>\r\n   </cc:Work>\r\n  </rdf:RDF>\r\n </metadata>\r\n <defs>\r\n  <style type=\"text/css\">*{stroke-linecap:butt;stroke-linejoin:round;}</style>\r\n </defs>\r\n <g id=\"figure_1\">\r\n  <g id=\"patch_1\">\r\n   <path d=\"M -0 248.518125 \r\nL 380.057813 248.518125 \r\nL 380.057813 0 \r\nL -0 0 \r\nz\r\n\" style=\"fill:none;\"/>\r\n  </g>\r\n  <g id=\"axes_1\">\r\n   <g id=\"patch_2\">\r\n    <path d=\"M 26.925 224.64 \r\nL 361.725 224.64 \r\nL 361.725 7.2 \r\nL 26.925 7.2 \r\nz\r\n\" style=\"fill:#ffffff;\"/>\r\n   </g>\r\n   <g id=\"PathCollection_1\">\r\n    <defs>\r\n     <path d=\"M 0 3.162278 \r\nC 0.838646 3.162278 1.643056 2.82908 2.236068 2.236068 \r\nC 2.82908 1.643056 3.162278 0.838646 3.162278 0 \r\nC 3.162278 -0.838646 2.82908 -1.643056 2.236068 -2.236068 \r\nC 1.643056 -2.82908 0.838646 -3.162278 0 -3.162278 \r\nC -0.838646 -3.162278 -1.643056 -2.82908 -2.236068 -2.236068 \r\nC -2.82908 -1.643056 -3.162278 -0.838646 -3.162278 0 \r\nC -3.162278 0.838646 -2.82908 1.643056 -2.236068 2.236068 \r\nC -1.643056 2.82908 -0.838646 3.162278 0 3.162278 \r\nz\r\n\" id=\"m031324320e\" style=\"stroke:#ffa500;\"/>\r\n    </defs>\r\n    <g clip-path=\"url(#p48983888ad)\">\r\n     <use style=\"fill:#ffa500;stroke:#ffa500;\" x=\"194.325\" xlink:href=\"#m031324320e\" y=\"214.756364\"/>\r\n    </g>\r\n   </g>\r\n   <g id=\"matplotlib.axis_1\">\r\n    <g id=\"xtick_1\">\r\n     <g id=\"line2d_1\">\r\n      <defs>\r\n       <path d=\"M 0 0 \r\nL 0 3.5 \r\n\" id=\"me5dc026995\" style=\"stroke:#000000;stroke-width:0.8;\"/>\r\n      </defs>\r\n      <g>\r\n       <use style=\"stroke:#000000;stroke-width:0.8;\" x=\"57.361364\" xlink:href=\"#me5dc026995\" y=\"224.64\"/>\r\n      </g>\r\n     </g>\r\n     <g id=\"text_1\">\r\n      <!-- −7.5 -->\r\n      <g transform=\"translate(45.219957 239.238437)scale(0.1 -0.1)\">\r\n       <defs>\r\n        <path d=\"M 10.59375 35.5 \r\nL 73.1875 35.5 \r\nL 73.1875 27.203125 \r\nL 10.59375 27.203125 \r\nz\r\n\" id=\"DejaVuSans-8722\"/>\r\n        <path d=\"M 8.203125 72.90625 \r\nL 55.078125 72.90625 \r\nL 55.078125 68.703125 \r\nL 28.609375 0 \r\nL 18.3125 0 \r\nL 43.21875 64.59375 \r\nL 8.203125 64.59375 \r\nz\r\n\" id=\"DejaVuSans-55\"/>\r\n        <path d=\"M 10.6875 12.40625 \r\nL 21 12.40625 \r\nL 21 0 \r\nL 10.6875 0 \r\nz\r\n\" id=\"DejaVuSans-46\"/>\r\n        <path d=\"M 10.796875 72.90625 \r\nL 49.515625 72.90625 \r\nL 49.515625 64.59375 \r\nL 19.828125 64.59375 \r\nL 19.828125 46.734375 \r\nQ 21.96875 47.46875 24.109375 47.828125 \r\nQ 26.265625 48.1875 28.421875 48.1875 \r\nQ 40.625 48.1875 47.75 41.5 \r\nQ 54.890625 34.8125 54.890625 23.390625 \r\nQ 54.890625 11.625 47.5625 5.09375 \r\nQ 40.234375 -1.421875 26.90625 -1.421875 \r\nQ 22.3125 -1.421875 17.546875 -0.640625 \r\nQ 12.796875 0.140625 7.71875 1.703125 \r\nL 7.71875 11.625 \r\nQ 12.109375 9.234375 16.796875 8.0625 \r\nQ 21.484375 6.890625 26.703125 6.890625 \r\nQ 35.15625 6.890625 40.078125 11.328125 \r\nQ 45.015625 15.765625 45.015625 23.390625 \r\nQ 45.015625 31 40.078125 35.4375 \r\nQ 35.15625 39.890625 26.703125 39.890625 \r\nQ 22.75 39.890625 18.8125 39.015625 \r\nQ 14.890625 38.140625 10.796875 36.28125 \r\nz\r\n\" id=\"DejaVuSans-53\"/>\r\n       </defs>\r\n       <use xlink:href=\"#DejaVuSans-8722\"/>\r\n       <use x=\"83.789062\" xlink:href=\"#DejaVuSans-55\"/>\r\n       <use x=\"147.412109\" xlink:href=\"#DejaVuSans-46\"/>\r\n       <use x=\"179.199219\" xlink:href=\"#DejaVuSans-53\"/>\r\n      </g>\r\n     </g>\r\n    </g>\r\n    <g id=\"xtick_2\">\r\n     <g id=\"line2d_2\">\r\n      <g>\r\n       <use style=\"stroke:#000000;stroke-width:0.8;\" x=\"95.406818\" xlink:href=\"#me5dc026995\" y=\"224.64\"/>\r\n      </g>\r\n     </g>\r\n     <g id=\"text_2\">\r\n      <!-- −5.0 -->\r\n      <g transform=\"translate(83.265412 239.238437)scale(0.1 -0.1)\">\r\n       <defs>\r\n        <path d=\"M 31.78125 66.40625 \r\nQ 24.171875 66.40625 20.328125 58.90625 \r\nQ 16.5 51.421875 16.5 36.375 \r\nQ 16.5 21.390625 20.328125 13.890625 \r\nQ 24.171875 6.390625 31.78125 6.390625 \r\nQ 39.453125 6.390625 43.28125 13.890625 \r\nQ 47.125 21.390625 47.125 36.375 \r\nQ 47.125 51.421875 43.28125 58.90625 \r\nQ 39.453125 66.40625 31.78125 66.40625 \r\nz\r\nM 31.78125 74.21875 \r\nQ 44.046875 74.21875 50.515625 64.515625 \r\nQ 56.984375 54.828125 56.984375 36.375 \r\nQ 56.984375 17.96875 50.515625 8.265625 \r\nQ 44.046875 -1.421875 31.78125 -1.421875 \r\nQ 19.53125 -1.421875 13.0625 8.265625 \r\nQ 6.59375 17.96875 6.59375 36.375 \r\nQ 6.59375 54.828125 13.0625 64.515625 \r\nQ 19.53125 74.21875 31.78125 74.21875 \r\nz\r\n\" id=\"DejaVuSans-48\"/>\r\n       </defs>\r\n       <use xlink:href=\"#DejaVuSans-8722\"/>\r\n       <use x=\"83.789062\" xlink:href=\"#DejaVuSans-53\"/>\r\n       <use x=\"147.412109\" xlink:href=\"#DejaVuSans-46\"/>\r\n       <use x=\"179.199219\" xlink:href=\"#DejaVuSans-48\"/>\r\n      </g>\r\n     </g>\r\n    </g>\r\n    <g id=\"xtick_3\">\r\n     <g id=\"line2d_3\">\r\n      <g>\r\n       <use style=\"stroke:#000000;stroke-width:0.8;\" x=\"133.452273\" xlink:href=\"#me5dc026995\" y=\"224.64\"/>\r\n      </g>\r\n     </g>\r\n     <g id=\"text_3\">\r\n      <!-- −2.5 -->\r\n      <g transform=\"translate(121.310866 239.238437)scale(0.1 -0.1)\">\r\n       <defs>\r\n        <path d=\"M 19.1875 8.296875 \r\nL 53.609375 8.296875 \r\nL 53.609375 0 \r\nL 7.328125 0 \r\nL 7.328125 8.296875 \r\nQ 12.9375 14.109375 22.625 23.890625 \r\nQ 32.328125 33.6875 34.8125 36.53125 \r\nQ 39.546875 41.84375 41.421875 45.53125 \r\nQ 43.3125 49.21875 43.3125 52.78125 \r\nQ 43.3125 58.59375 39.234375 62.25 \r\nQ 35.15625 65.921875 28.609375 65.921875 \r\nQ 23.96875 65.921875 18.8125 64.3125 \r\nQ 13.671875 62.703125 7.8125 59.421875 \r\nL 7.8125 69.390625 \r\nQ 13.765625 71.78125 18.9375 73 \r\nQ 24.125 74.21875 28.421875 74.21875 \r\nQ 39.75 74.21875 46.484375 68.546875 \r\nQ 53.21875 62.890625 53.21875 53.421875 \r\nQ 53.21875 48.921875 51.53125 44.890625 \r\nQ 49.859375 40.875 45.40625 35.40625 \r\nQ 44.1875 33.984375 37.640625 27.21875 \r\nQ 31.109375 20.453125 19.1875 8.296875 \r\nz\r\n\" id=\"DejaVuSans-50\"/>\r\n       </defs>\r\n       <use xlink:href=\"#DejaVuSans-8722\"/>\r\n       <use x=\"83.789062\" xlink:href=\"#DejaVuSans-50\"/>\r\n       <use x=\"147.412109\" xlink:href=\"#DejaVuSans-46\"/>\r\n       <use x=\"179.199219\" xlink:href=\"#DejaVuSans-53\"/>\r\n      </g>\r\n     </g>\r\n    </g>\r\n    <g id=\"xtick_4\">\r\n     <g id=\"line2d_4\">\r\n      <g>\r\n       <use style=\"stroke:#000000;stroke-width:0.8;\" x=\"171.497727\" xlink:href=\"#me5dc026995\" y=\"224.64\"/>\r\n      </g>\r\n     </g>\r\n     <g id=\"text_4\">\r\n      <!-- 0.0 -->\r\n      <g transform=\"translate(163.546165 239.238437)scale(0.1 -0.1)\">\r\n       <use xlink:href=\"#DejaVuSans-48\"/>\r\n       <use x=\"63.623047\" xlink:href=\"#DejaVuSans-46\"/>\r\n       <use x=\"95.410156\" xlink:href=\"#DejaVuSans-48\"/>\r\n      </g>\r\n     </g>\r\n    </g>\r\n    <g id=\"xtick_5\">\r\n     <g id=\"line2d_5\">\r\n      <g>\r\n       <use style=\"stroke:#000000;stroke-width:0.8;\" x=\"209.543182\" xlink:href=\"#me5dc026995\" y=\"224.64\"/>\r\n      </g>\r\n     </g>\r\n     <g id=\"text_5\">\r\n      <!-- 2.5 -->\r\n      <g transform=\"translate(201.591619 239.238437)scale(0.1 -0.1)\">\r\n       <use xlink:href=\"#DejaVuSans-50\"/>\r\n       <use x=\"63.623047\" xlink:href=\"#DejaVuSans-46\"/>\r\n       <use x=\"95.410156\" xlink:href=\"#DejaVuSans-53\"/>\r\n      </g>\r\n     </g>\r\n    </g>\r\n    <g id=\"xtick_6\">\r\n     <g id=\"line2d_6\">\r\n      <g>\r\n       <use style=\"stroke:#000000;stroke-width:0.8;\" x=\"247.588636\" xlink:href=\"#me5dc026995\" y=\"224.64\"/>\r\n      </g>\r\n     </g>\r\n     <g id=\"text_6\">\r\n      <!-- 5.0 -->\r\n      <g transform=\"translate(239.637074 239.238437)scale(0.1 -0.1)\">\r\n       <use xlink:href=\"#DejaVuSans-53\"/>\r\n       <use x=\"63.623047\" xlink:href=\"#DejaVuSans-46\"/>\r\n       <use x=\"95.410156\" xlink:href=\"#DejaVuSans-48\"/>\r\n      </g>\r\n     </g>\r\n    </g>\r\n    <g id=\"xtick_7\">\r\n     <g id=\"line2d_7\">\r\n      <g>\r\n       <use style=\"stroke:#000000;stroke-width:0.8;\" x=\"285.634091\" xlink:href=\"#me5dc026995\" y=\"224.64\"/>\r\n      </g>\r\n     </g>\r\n     <g id=\"text_7\">\r\n      <!-- 7.5 -->\r\n      <g transform=\"translate(277.682528 239.238437)scale(0.1 -0.1)\">\r\n       <use xlink:href=\"#DejaVuSans-55\"/>\r\n       <use x=\"63.623047\" xlink:href=\"#DejaVuSans-46\"/>\r\n       <use x=\"95.410156\" xlink:href=\"#DejaVuSans-53\"/>\r\n      </g>\r\n     </g>\r\n    </g>\r\n    <g id=\"xtick_8\">\r\n     <g id=\"line2d_8\">\r\n      <g>\r\n       <use style=\"stroke:#000000;stroke-width:0.8;\" x=\"323.679545\" xlink:href=\"#me5dc026995\" y=\"224.64\"/>\r\n      </g>\r\n     </g>\r\n     <g id=\"text_8\">\r\n      <!-- 10.0 -->\r\n      <g transform=\"translate(312.546733 239.238437)scale(0.1 -0.1)\">\r\n       <defs>\r\n        <path d=\"M 12.40625 8.296875 \r\nL 28.515625 8.296875 \r\nL 28.515625 63.921875 \r\nL 10.984375 60.40625 \r\nL 10.984375 69.390625 \r\nL 28.421875 72.90625 \r\nL 38.28125 72.90625 \r\nL 38.28125 8.296875 \r\nL 54.390625 8.296875 \r\nL 54.390625 0 \r\nL 12.40625 0 \r\nz\r\n\" id=\"DejaVuSans-49\"/>\r\n       </defs>\r\n       <use xlink:href=\"#DejaVuSans-49\"/>\r\n       <use x=\"63.623047\" xlink:href=\"#DejaVuSans-48\"/>\r\n       <use x=\"127.246094\" xlink:href=\"#DejaVuSans-46\"/>\r\n       <use x=\"159.033203\" xlink:href=\"#DejaVuSans-48\"/>\r\n      </g>\r\n     </g>\r\n    </g>\r\n    <g id=\"xtick_9\">\r\n     <g id=\"line2d_9\">\r\n      <g>\r\n       <use style=\"stroke:#000000;stroke-width:0.8;\" x=\"361.725\" xlink:href=\"#me5dc026995\" y=\"224.64\"/>\r\n      </g>\r\n     </g>\r\n     <g id=\"text_9\">\r\n      <!-- 12.5 -->\r\n      <g transform=\"translate(350.592188 239.238437)scale(0.1 -0.1)\">\r\n       <use xlink:href=\"#DejaVuSans-49\"/>\r\n       <use x=\"63.623047\" xlink:href=\"#DejaVuSans-50\"/>\r\n       <use x=\"127.246094\" xlink:href=\"#DejaVuSans-46\"/>\r\n       <use x=\"159.033203\" xlink:href=\"#DejaVuSans-53\"/>\r\n      </g>\r\n     </g>\r\n    </g>\r\n   </g>\r\n   <g id=\"matplotlib.axis_2\">\r\n    <g id=\"ytick_1\">\r\n     <g id=\"line2d_10\">\r\n      <defs>\r\n       <path d=\"M 0 0 \r\nL -3.5 0 \r\n\" id=\"m71e5ffecce\" style=\"stroke:#000000;stroke-width:0.8;\"/>\r\n      </defs>\r\n      <g>\r\n       <use style=\"stroke:#000000;stroke-width:0.8;\" x=\"26.925\" xlink:href=\"#m71e5ffecce\" y=\"202.401818\"/>\r\n      </g>\r\n     </g>\r\n     <g id=\"text_10\">\r\n      <!-- 0 -->\r\n      <g transform=\"translate(13.5625 206.201037)scale(0.1 -0.1)\">\r\n       <use xlink:href=\"#DejaVuSans-48\"/>\r\n      </g>\r\n     </g>\r\n    </g>\r\n    <g id=\"ytick_2\">\r\n     <g id=\"line2d_11\">\r\n      <g>\r\n       <use style=\"stroke:#000000;stroke-width:0.8;\" x=\"26.925\" xlink:href=\"#m71e5ffecce\" y=\"162.867273\"/>\r\n      </g>\r\n     </g>\r\n     <g id=\"text_11\">\r\n      <!-- 20 -->\r\n      <g transform=\"translate(7.2 166.666491)scale(0.1 -0.1)\">\r\n       <use xlink:href=\"#DejaVuSans-50\"/>\r\n       <use x=\"63.623047\" xlink:href=\"#DejaVuSans-48\"/>\r\n      </g>\r\n     </g>\r\n    </g>\r\n    <g id=\"ytick_3\">\r\n     <g id=\"line2d_12\">\r\n      <g>\r\n       <use style=\"stroke:#000000;stroke-width:0.8;\" x=\"26.925\" xlink:href=\"#m71e5ffecce\" y=\"123.332727\"/>\r\n      </g>\r\n     </g>\r\n     <g id=\"text_12\">\r\n      <!-- 40 -->\r\n      <g transform=\"translate(7.2 127.131946)scale(0.1 -0.1)\">\r\n       <defs>\r\n        <path d=\"M 37.796875 64.3125 \r\nL 12.890625 25.390625 \r\nL 37.796875 25.390625 \r\nz\r\nM 35.203125 72.90625 \r\nL 47.609375 72.90625 \r\nL 47.609375 25.390625 \r\nL 58.015625 25.390625 \r\nL 58.015625 17.1875 \r\nL 47.609375 17.1875 \r\nL 47.609375 0 \r\nL 37.796875 0 \r\nL 37.796875 17.1875 \r\nL 4.890625 17.1875 \r\nL 4.890625 26.703125 \r\nz\r\n\" id=\"DejaVuSans-52\"/>\r\n       </defs>\r\n       <use xlink:href=\"#DejaVuSans-52\"/>\r\n       <use x=\"63.623047\" xlink:href=\"#DejaVuSans-48\"/>\r\n      </g>\r\n     </g>\r\n    </g>\r\n    <g id=\"ytick_4\">\r\n     <g id=\"line2d_13\">\r\n      <g>\r\n       <use style=\"stroke:#000000;stroke-width:0.8;\" x=\"26.925\" xlink:href=\"#m71e5ffecce\" y=\"83.798182\"/>\r\n      </g>\r\n     </g>\r\n     <g id=\"text_13\">\r\n      <!-- 60 -->\r\n      <g transform=\"translate(7.2 87.597401)scale(0.1 -0.1)\">\r\n       <defs>\r\n        <path d=\"M 33.015625 40.375 \r\nQ 26.375 40.375 22.484375 35.828125 \r\nQ 18.609375 31.296875 18.609375 23.390625 \r\nQ 18.609375 15.53125 22.484375 10.953125 \r\nQ 26.375 6.390625 33.015625 6.390625 \r\nQ 39.65625 6.390625 43.53125 10.953125 \r\nQ 47.40625 15.53125 47.40625 23.390625 \r\nQ 47.40625 31.296875 43.53125 35.828125 \r\nQ 39.65625 40.375 33.015625 40.375 \r\nz\r\nM 52.59375 71.296875 \r\nL 52.59375 62.3125 \r\nQ 48.875 64.0625 45.09375 64.984375 \r\nQ 41.3125 65.921875 37.59375 65.921875 \r\nQ 27.828125 65.921875 22.671875 59.328125 \r\nQ 17.53125 52.734375 16.796875 39.40625 \r\nQ 19.671875 43.65625 24.015625 45.921875 \r\nQ 28.375 48.1875 33.59375 48.1875 \r\nQ 44.578125 48.1875 50.953125 41.515625 \r\nQ 57.328125 34.859375 57.328125 23.390625 \r\nQ 57.328125 12.15625 50.6875 5.359375 \r\nQ 44.046875 -1.421875 33.015625 -1.421875 \r\nQ 20.359375 -1.421875 13.671875 8.265625 \r\nQ 6.984375 17.96875 6.984375 36.375 \r\nQ 6.984375 53.65625 15.1875 63.9375 \r\nQ 23.390625 74.21875 37.203125 74.21875 \r\nQ 40.921875 74.21875 44.703125 73.484375 \r\nQ 48.484375 72.75 52.59375 71.296875 \r\nz\r\n\" id=\"DejaVuSans-54\"/>\r\n       </defs>\r\n       <use xlink:href=\"#DejaVuSans-54\"/>\r\n       <use x=\"63.623047\" xlink:href=\"#DejaVuSans-48\"/>\r\n      </g>\r\n     </g>\r\n    </g>\r\n    <g id=\"ytick_5\">\r\n     <g id=\"line2d_14\">\r\n      <g>\r\n       <use style=\"stroke:#000000;stroke-width:0.8;\" x=\"26.925\" xlink:href=\"#m71e5ffecce\" y=\"44.263636\"/>\r\n      </g>\r\n     </g>\r\n     <g id=\"text_14\">\r\n      <!-- 80 -->\r\n      <g transform=\"translate(7.2 48.062855)scale(0.1 -0.1)\">\r\n       <defs>\r\n        <path d=\"M 31.78125 34.625 \r\nQ 24.75 34.625 20.71875 30.859375 \r\nQ 16.703125 27.09375 16.703125 20.515625 \r\nQ 16.703125 13.921875 20.71875 10.15625 \r\nQ 24.75 6.390625 31.78125 6.390625 \r\nQ 38.8125 6.390625 42.859375 10.171875 \r\nQ 46.921875 13.96875 46.921875 20.515625 \r\nQ 46.921875 27.09375 42.890625 30.859375 \r\nQ 38.875 34.625 31.78125 34.625 \r\nz\r\nM 21.921875 38.8125 \r\nQ 15.578125 40.375 12.03125 44.71875 \r\nQ 8.5 49.078125 8.5 55.328125 \r\nQ 8.5 64.0625 14.71875 69.140625 \r\nQ 20.953125 74.21875 31.78125 74.21875 \r\nQ 42.671875 74.21875 48.875 69.140625 \r\nQ 55.078125 64.0625 55.078125 55.328125 \r\nQ 55.078125 49.078125 51.53125 44.71875 \r\nQ 48 40.375 41.703125 38.8125 \r\nQ 48.828125 37.15625 52.796875 32.3125 \r\nQ 56.78125 27.484375 56.78125 20.515625 \r\nQ 56.78125 9.90625 50.3125 4.234375 \r\nQ 43.84375 -1.421875 31.78125 -1.421875 \r\nQ 19.734375 -1.421875 13.25 4.234375 \r\nQ 6.78125 9.90625 6.78125 20.515625 \r\nQ 6.78125 27.484375 10.78125 32.3125 \r\nQ 14.796875 37.15625 21.921875 38.8125 \r\nz\r\nM 18.3125 54.390625 \r\nQ 18.3125 48.734375 21.84375 45.5625 \r\nQ 25.390625 42.390625 31.78125 42.390625 \r\nQ 38.140625 42.390625 41.71875 45.5625 \r\nQ 45.3125 48.734375 45.3125 54.390625 \r\nQ 45.3125 60.0625 41.71875 63.234375 \r\nQ 38.140625 66.40625 31.78125 66.40625 \r\nQ 25.390625 66.40625 21.84375 63.234375 \r\nQ 18.3125 60.0625 18.3125 54.390625 \r\nz\r\n\" id=\"DejaVuSans-56\"/>\r\n       </defs>\r\n       <use xlink:href=\"#DejaVuSans-56\"/>\r\n       <use x=\"63.623047\" xlink:href=\"#DejaVuSans-48\"/>\r\n      </g>\r\n     </g>\r\n    </g>\r\n   </g>\r\n   <g id=\"line2d_15\">\r\n    <path clip-path=\"url(#p48983888ad)\" d=\"M 42.143182 17.083636 \r\nL 48.230455 32.581178 \r\nL 54.317727 47.446167 \r\nL 60.405 61.678604 \r\nL 66.492273 75.278487 \r\nL 72.579545 88.245818 \r\nL 78.666818 100.580596 \r\nL 84.754091 112.282822 \r\nL 89.319545 120.644378 \r\nL 93.885 128.650124 \r\nL 98.450455 136.300058 \r\nL 103.015909 143.594182 \r\nL 107.581364 150.532495 \r\nL 112.146818 157.114996 \r\nL 116.712273 163.341687 \r\nL 121.277727 169.212567 \r\nL 125.843182 174.727636 \r\nL 130.408636 179.886895 \r\nL 134.974091 184.690342 \r\nL 139.539545 189.137978 \r\nL 144.105 193.229804 \r\nL 148.670455 196.965818 \r\nL 153.235909 200.346022 \r\nL 157.801364 203.370415 \r\nL 162.366818 206.038996 \r\nL 166.932273 208.351767 \r\nL 171.497727 210.308727 \r\nL 176.063182 211.909876 \r\nL 179.106818 212.779636 \r\nL 182.150455 213.491258 \r\nL 185.194091 214.044742 \r\nL 188.237727 214.440087 \r\nL 191.281364 214.677295 \r\nL 194.325 214.756364 \r\nL 197.368636 214.677295 \r\nL 200.412273 214.440087 \r\nL 203.455909 214.044742 \r\nL 206.499545 213.491258 \r\nL 209.543182 212.779636 \r\nL 212.586818 211.909876 \r\nL 215.630455 210.881978 \r\nL 220.195909 209.043622 \r\nL 224.761364 206.849455 \r\nL 229.326818 204.299476 \r\nL 233.892273 201.393687 \r\nL 238.457727 198.132087 \r\nL 243.023182 194.514676 \r\nL 247.588636 190.541455 \r\nL 252.154091 186.212422 \r\nL 256.719545 181.527578 \r\nL 261.285 176.486924 \r\nL 265.850455 171.090458 \r\nL 270.415909 165.338182 \r\nL 274.981364 159.230095 \r\nL 279.546818 152.766196 \r\nL 284.112273 145.946487 \r\nL 288.677727 138.770967 \r\nL 293.243182 131.239636 \r\nL 297.808636 123.352495 \r\nL 302.374091 115.109542 \r\nL 306.939545 106.510778 \r\nL 313.026818 94.492276 \r\nL 319.114091 81.841222 \r\nL 325.201364 68.557615 \r\nL 331.288636 54.641455 \r\nL 337.375909 40.092742 \r\nL 343.463182 24.911476 \r\nL 346.506818 17.083636 \r\nL 346.506818 17.083636 \r\n\" style=\"fill:none;stroke:#1f77b4;stroke-linecap:square;stroke-width:1.5;\"/>\r\n   </g>\r\n   <g id=\"line2d_16\">\r\n    <path clip-path=\"url(#p48983888ad)\" d=\"M 26.925 202.401818 \r\nL 361.725 202.401818 \r\n\" style=\"fill:none;stroke:#000000;stroke-linecap:square;stroke-width:1.5;\"/>\r\n   </g>\r\n   <g id=\"line2d_17\">\r\n    <path clip-path=\"url(#p48983888ad)\" d=\"M 171.497727 224.64 \r\nL 171.497727 7.2 \r\n\" style=\"fill:none;stroke:#000000;stroke-linecap:square;stroke-width:1.5;\"/>\r\n   </g>\r\n   <g id=\"patch_3\">\r\n    <path d=\"M 26.925 224.64 \r\nL 26.925 7.2 \r\n\" style=\"fill:none;stroke:#000000;stroke-linecap:square;stroke-linejoin:miter;stroke-width:0.8;\"/>\r\n   </g>\r\n   <g id=\"patch_4\">\r\n    <path d=\"M 361.725 224.64 \r\nL 361.725 7.2 \r\n\" style=\"fill:none;stroke:#000000;stroke-linecap:square;stroke-linejoin:miter;stroke-width:0.8;\"/>\r\n   </g>\r\n   <g id=\"patch_5\">\r\n    <path d=\"M 26.925 224.64 \r\nL 361.725 224.64 \r\n\" style=\"fill:none;stroke:#000000;stroke-linecap:square;stroke-linejoin:miter;stroke-width:0.8;\"/>\r\n   </g>\r\n   <g id=\"patch_6\">\r\n    <path d=\"M 26.925 7.2 \r\nL 361.725 7.2 \r\n\" style=\"fill:none;stroke:#000000;stroke-linecap:square;stroke-linejoin:miter;stroke-width:0.8;\"/>\r\n   </g>\r\n  </g>\r\n </g>\r\n <defs>\r\n  <clipPath id=\"p48983888ad\">\r\n   <rect height=\"217.44\" width=\"334.8\" x=\"26.925\" y=\"7.2\"/>\r\n  </clipPath>\r\n </defs>\r\n</svg>\r\n",
      "image/png": "[encoded data removed]"
     },
     "metadata": {
      "needs_background": "light"
     }
    }
   ],
   "source": [
    "# этот кусок относится больше к наведению порядка и красоте  https://fedor1113.github.io/SomeBasicMathsNotions/7.html\n",
    "# а также строит график функции на участе +-10 от экстремума\n",
    "import numpy as np # подключение крутой библиотеки numpy -https://pythonworld.ru/numpy/1.html. !!! поначалу может быть непонятно\n",
    "import matplotlib.pyplot as plt # подключение крутой библиотеки  matplotlib - https://nbviewer.jupyter.org/github/whitehorn/Scientific_graphics_in_python/blob/master/P1%20Chapter%201%20Pyplot.ipynb\n",
    "\n",
    "def GetInputData():\n",
    "    while True:\n",
    "        data  = { 'a' : int(input(\"a= \")), # поскольку из названии функции нам ясно что данные вводимые, то назовем словарь просто дата\n",
    "                'b' : int(input(\"b= \")),\n",
    "                'c' : int(input(\"c= \"))            \n",
    "        }\n",
    "        if data['a'] != 0:\n",
    "            print (\"Введены коэффициенты:\", data)\n",
    "            print (\"_________Анализ коэффициентов_________\")\n",
    "            if data['a']<0:\n",
    "                print(\"При а<0 ветви параболы направлены вниз.\")\n",
    "            else:\n",
    "                print(\"При а>0 ветви параболы направлены вверх.\")\n",
    "\n",
    "            if data['b'] ==0 or data['c']==0:\n",
    "                print(\"Уравнение, в котором хотя бы один коэффициент (b или c) равен нулю, называют неполным.\")\n",
    "                if  data['b'] ==0:\n",
    "                     print(\"При b=0 парабола будет симметрична относительно оси Y\")\n",
    "            else:\n",
    "                print(\"Уравнение, в котором все коэффициенты отличны от нуля, называется полным.\")\n",
    "            \n",
    "            break\n",
    "        else :\n",
    "            print (\"При а = 0, функция перестает быть квадратичной.Введите а не равное 0\")\n",
    "    return data # функция возвращает данный словарь.\n",
    "\n",
    "def CalcQadraticY(x,data): #функция вычисляет y квадратной функции\n",
    "    a=data['a']\n",
    "    b=data['b']\n",
    "    c=data['c']\n",
    "    return  a*x ** 2 +b * x +c \n",
    "\n",
    "def CalcQuadraticExtremum(data): # функция вычисляет экстремум квадратной функции\n",
    "    x=(-data['b'])/(2*data['a'])\n",
    "    y=data['a']*x**2+data['b']*x+data['c']\n",
    "    return ({\"x\":x,\"y\":y}) \n",
    "\n",
    "# основной код \n",
    "input_data = GetInputData() # получение коэффициентов\n",
    "\n",
    "print (\"_________Расчеты_________\")\n",
    "extremum=CalcQuadraticExtremum(input_data)\n",
    "print('значение по оси Х экстремума функции = -b/2a =', extremum['x'])\n",
    "print('значение по оси Y экстремума функции = ', extremum['y'])\n",
    "\n",
    "x = np.linspace(extremum['x'] -10, extremum['x'] +10, 201) # https://pythonist.ru/funkczii-numpy-linspace-i-numpy-logspace/ \n",
    "\n",
    "y = CalcQadraticY(x,input_data)\n",
    "\n",
    "plt.plot(x, y) # построить график по оси икс откладывая массив х, а по у вызываем функцию, которая посчитает значения у\n",
    "plt.axhline(y=0, color='k')\n",
    "plt.axvline(x=0, color='k')\n",
    "plt.scatter(extremum['x'] ,extremum['y'], color='orange', s=40, marker='o')\n",
    "plt.show() # показать этот график в окне"
   ]
  },
  {
   "cell_type": "code",
   "execution_count": null,
   "metadata": {},
   "outputs": [],
   "source": []
  }
 ]
}